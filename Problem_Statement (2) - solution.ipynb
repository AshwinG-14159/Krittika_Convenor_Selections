{
  "cells": [
    {
      "cell_type": "markdown",
      "id": "d5c6e7d4",
      "metadata": {
        "id": "d5c6e7d4"
      },
      "source": [
        "# Krittika Convener Selection\n",
        "## Python Assignment\n",
        "\n",
        "1. You may find the KSP tutorials useful: https://github.com/krittikaiitb/tutorials - Tutorials 1,2,3, and 4 are particularly relevant. These cover basic python, numpy, functions in python and matplotlib respectively.\n",
        "\n",
        "2. A helpful reminder that executing a cell with help (for example: help(np.loadtxt) or np.loadtxt?) will show the documentation for that function.\n",
        "\n",
        "3. The use of internet is completely ALLOWED for solving this assignment.\n",
        "\n",
        "4. Feel free to use multiple cells for your solutions, this would make your code easier to understand in a step-by-step fashion. But keep them separate for each question (don't use a cell to solve Q1 after Q2).\n",
        "\n",
        "5. Try to keep your code neat and make use of comments and/or markdown cells to explain what you have done."
      ]
    },
    {
      "cell_type": "code",
      "execution_count": 1,
      "id": "ee984c1c",
      "metadata": {
        "id": "ee984c1c"
      },
      "outputs": [],
      "source": [
        "# try to put all your imports here\n",
        "import numpy as np\n",
        "import matplotlib.pyplot as plt\n",
        "import pandas as pd\n",
        "from scipy.optimize import curve_fit\n",
        "import math as m\n",
        "import datetime"
      ]
    },
    {
      "cell_type": "markdown",
      "id": "f5528a29",
      "metadata": {
        "id": "f5528a29"
      },
      "source": [
        "### Q1: Parsing Form Responses\n",
        "Suppose that you are a convener and it has been a few months into your tenure. We have organized an event focused at the newly joining freshers(your juniors).\n",
        "\n",
        "We floated a Google form to collect their details and get them registered. We planned to contact them all via WebMail to send them details of the event.\n",
        "\n",
        "While going through the responses, you discover that your co-convener forgot to filter inputs in the form! There appear to be many invalid roll numbers - we cannot contact these students via WebMail. Here are the first few entries:\n",
        "\n",
        "| Sr. No. | Name | Roll Number | Contact Number |\n",
        "|---------|------|-------------|----------------|\n",
        "| 1       | MV   | 220070044   | 986937546      |\n",
        "| 2       | DV   | 22b280013   | 961101307      |\n",
        "| 3       | RR   | 21070042    | 908204532      |\n",
        "| 4       | YB   | 220030019   | 947226579      |\n",
        "\n",
        "As you can see, we can already see an erroneous LDAP in the $3$rd input.\n",
        "\n",
        "Your task here is to find out the submissions with wrong roll numbers and filter them out. We would reach out to such people using their contact numbers. Your final output should be the names and contact numbers of these people.\n",
        "\n",
        "*PS : As you might suspect, this data is sourced from an actual event from our tenure. It has been anonymized and the errors have been exaggerated :)*"
      ]
    },
    {
      "cell_type": "code",
      "execution_count": 2,
      "id": "00a71113",
      "metadata": {
        "id": "00a71113"
      },
      "outputs": [],
      "source": [
        "file1 = 'Dataset_Q1.csv' #this is the CSV file that countains all the responses"
      ]
    },
    {
      "cell_type": "markdown",
      "id": "8919e459",
      "metadata": {
        "id": "8919e459"
      },
      "source": [
        "Feel free to use any libraries/standard functions that you might need to solve this problem."
      ]
    },
    {
      "cell_type": "code",
      "execution_count": 6,
      "id": "ea8f7e8b",
      "metadata": {
        "id": "ea8f7e8b",
        "colab": {
          "base_uri": "https://localhost:8080/"
        },
        "outputId": "a870d0d5-d339-455d-d8e9-06967458bec7"
      },
      "outputs": [
        {
          "output_type": "stream",
          "name": "stdout",
          "text": [
            "['RR', 908204532]\n",
            "['KA', 909372264]\n",
            "['BP', 980849718]\n",
            "['AP', 932737329]\n",
            "['SP', 936914944]\n",
            "['JS', 979691534]\n",
            "['PM', 996497703]\n",
            "['VN', 918746674]\n",
            "['SN', 902766352]\n",
            "['AR', 992993873]\n",
            "['SS', 914286714]\n",
            "['DS', 914030157]\n",
            "['AB', 934220771]\n",
            "['MM', 918359105]\n"
          ]
        }
      ],
      "source": [
        "# Solution code\n",
        "df = pd.read_csv(file1)\n",
        "rolls = np.array(df['Roll Number']) #array of roll numbers\n",
        "\n",
        "\n",
        "list_of_mistakes = []\n",
        "id_mistakes = []\n",
        "for i in range(np.size(rolls)):\n",
        "  if len(rolls[i]) != 9 or rolls[i][0:2] not in ['20','21','22']:  #If lengths is wrong, or year is wrong, it is a erroneous roll number\n",
        "      list_of_mistakes.append([df.iloc[i]['Name'], df.iloc[i]['Contact Number']])\n",
        "      id_mistakes.append(i) #mark IDs of erroneous data\n",
        "\n",
        "for i in list_of_mistakes:\n",
        "  print(i)"
      ]
    },
    {
      "cell_type": "markdown",
      "id": "801e187a",
      "metadata": {
        "id": "801e187a"
      },
      "source": [
        "#### Bonus part:\n",
        "Amongst the valid entries, what proportion are actually freshers? Remember that we intended to target them with this event. The majority seem to be freshers but you will also find some second and third year students. You can identify each of these groups by the first two digits of their roll numbers. \n",
        "\n",
        "Your task is to graphically depict the number of applicants across the three batches."
      ]
    },
    {
      "cell_type": "code",
      "execution_count": 7,
      "id": "e4ea5290",
      "metadata": {
        "id": "e4ea5290",
        "colab": {
          "base_uri": "https://localhost:8080/",
          "height": 411
        },
        "outputId": "cee9d909-cc9d-4536-f599-2d3b8faffe8b"
      },
      "outputs": [
        {
          "output_type": "display_data",
          "data": {
            "text/plain": [
              "<Figure size 720x504 with 1 Axes>"
            ],
            "image/png": "[encoded data removed]"
          },
          "metadata": {}
        }
      ],
      "source": [
        "# Solution code\n",
        "n_22 = n_21 = n_20 = 0\n",
        "\n",
        "df = pd.read_csv(file1)\n",
        "rolls = np.array(df['Roll Number'])\n",
        "\n",
        "\n",
        "for i in range(np.size(rolls)): #count number of students from each year\n",
        "  if i not in id_mistakes:\n",
        "    year = rolls[i][0:2]\n",
        "    if year == '20':\n",
        "      n_20 += 1\n",
        "    elif year == '21':\n",
        "      n_21 += 1\n",
        "    elif year == '22':\n",
        "      n_22 += 1\n",
        "\n",
        "#Decided to make a pie chart as it properly demonstrates the proportion of different quantities relative to each other as well as relative to the whole\n",
        "\n",
        "years = ['thirdies (' + str(n_20) + ')','sophies (' + str(n_21) + ')','freshies (' + str(n_22) + ')'] #labels\n",
        "data = [n_20,n_21,n_22] #data values\n",
        "\n",
        "fig = plt.figure(figsize =(10, 7))\n",
        "plt.pie(data, labels = years)\n",
        "\n",
        "plt.show()\n",
        "#plotting and displaying the pie chart\n"
      ]
    },
    {
      "cell_type": "markdown",
      "id": "9d1911c6",
      "metadata": {
        "id": "9d1911c6"
      },
      "source": [
        "### Q2: A New Discovery\n",
        "During one of our regular stargazing sessions, you and your co-conveners discover a new blip of light that shouldn't be there. After examining it a bit, you realise that this object is not quite like anything the world has seen before. You share your data with club seniors and make a startling find - its the first of its kind of a completely new class of objects. An ex-secy of the club, Siddhant Tripathy, analyses it extensively and declares that its actually the first ever **endoplanet** to be found. You and your team are now international celebrities, but its time to organise an event so that people from insti can see this.\n",
        "\n",
        "Your task is to find out when exactly Tripps' endoplanet would be at its brightest and organise a stargazing session on that date so that everyone can see it for themselves. You have data from a month of observations of this object and you need to extrapolate it to find the peak."
      ]
    },
    {
      "cell_type": "code",
      "execution_count": 8,
      "id": "9e7d5141",
      "metadata": {
        "id": "9e7d5141"
      },
      "outputs": [],
      "source": [
        "file2 = 'Dataset_Q2.csv'"
      ]
    },
    {
      "cell_type": "markdown",
      "id": "99dc43d3",
      "metadata": {
        "id": "99dc43d3"
      },
      "source": [
        "According to your analysis, this object is in a special orbit that gives it a roughly Gaussian light curve i.e. the plot of [magnitude](https://en.wikipedia.org/wiki/Apparent_magnitude) v/s time roughly follows an inverted Gaussian function. Recall that a generic Gaussian function with unit amplitude is given by\n",
        "\n",
        "$$f(x) = \\frac{1}{\\sigma\\sqrt{2\\pi}}\\exp\\left({-\\frac{1}{2}{\\left(\\frac{x-\\mu}{\\sigma}\\right)}^2}\\right)$$ \n",
        "\n",
        "where $\\mu$ is the mean of the distribution it describes and $\\sigma$ is the standard deviation. More about it [here](https://archive.lib.msu.edu/crcmath/math/math/g/g087.htm).\n",
        "\n",
        "Your task is to find the date at which the endoplanet will be at it's brightest, along with how bright its expected to be. Also plot the original data along with the fitted curve.\n",
        "\n",
        "You can do this by fitting a gaussian to the light curve data and locating its extremum. You may find `scipy.optimize.curve_fit` useful. \n",
        "\n",
        "**Important** : Our fit function must be a Gaussian with a vertical offset. The problem is that `curve_fit` tends to misbehave in this particular example when you ask it to guess that offset, so assume it to be $9.0$ to solve this problem. This, of course, implies that the baseline magnitude of the object is $9.0$"
      ]
    },
    {
      "cell_type": "code",
      "execution_count": 10,
      "id": "cf3750af",
      "metadata": {
        "id": "cf3750af",
        "colab": {
          "base_uri": "https://localhost:8080/",
          "height": 265
        },
        "outputId": "85daa904-0af6-4261-9a34-9ee1069eee11"
      },
      "outputs": [
        {
          "output_type": "display_data",
          "data": {
            "text/plain": [
              "<Figure size 432x288 with 1 Axes>"
            ],
            "image/png": "[encoded data removed]"
          },
          "metadata": {
            "needs_background": "light"
          }
        }
      ],
      "source": [
        "# Solution code\n",
        "\n",
        "def gaussian(t, sig, mu, factor): #example function(inverted gaussian)\n",
        "                                  #sig = standard dev, mu = mean value, factor = scaling factor\n",
        "  const = factor/(sig*m.sqrt(2*m.pi))\n",
        "  exponential = -( ( (t-mu) / sig) **2) /2\n",
        "  return 9 - const*np.exp(exponential)\n",
        "\n",
        "  \n",
        "\n",
        "df = pd.read_csv(file2)\n",
        "time = np.array(df['Night No.'])\n",
        "mag = np.array(df['Magnitude'])\n",
        "\n",
        "param, cov = curve_fit(gaussian, time, mag) #using scipy to find optimized values that fir the data\n",
        "\n",
        "\n",
        "x = np.linspace(0, 50, num = 100)\n",
        "y = gaussian(x,param[0], param[1], param[2]) #create an approximate plot of the gaussian\n",
        "\n",
        "plt.plot(time,mag) #plot the data in blue\n",
        "plt.plot(x,y) #plot the fit curve in red\n",
        "plt.show()\n",
        "\n",
        "\n"
      ]
    },
    {
      "cell_type": "code",
      "source": [
        "days_to_max = int(x[np.argmin(y)]) #find number of days to max brightness\n",
        "max_brightness = np.min(y) #find max brightness\n",
        "dates = np.array(df['Date']) #get the date values from the file\n",
        "\n",
        "months = {'Jan':1, 'Feb':2, 'Mar':3, 'Apr':4, 'May':5, 'Jun':6, \"Jul\":7, 'Aug':8, 'Sep':9, 'Oct':10, 'Nov':11, 'Dec': 12} #dictionary of month names and numbers\n",
        "\n",
        "l = dates[1].split('-')\n",
        "day1 = int(l[0])#find day when day number = 1\n",
        "month1 = months[l[1]] #find month number when day number = 1\n",
        "d1 = datetime.date(2022, month1, day1) #turn the data into a dat object\n",
        "dmax = d1 + datetime.timedelta(days = days_to_max - 1) #add the required number of days\n",
        "print('date of max brightness = ', dmax.day,'-', dmax.month) #print out the new date\n",
        "print('expected magnitude = ', max_brightness)"
      ],
      "metadata": {
        "colab": {
          "base_uri": "https://localhost:8080/"
        },
        "id": "Sv2ibjCvac-R",
        "outputId": "7c2204b9-4578-4717-dd64-00cc6d25c7a9"
      },
      "id": "Sv2ibjCvac-R",
      "execution_count": 11,
      "outputs": [
        {
          "output_type": "stream",
          "name": "stdout",
          "text": [
            "date of max brightness =  28 - 6\n",
            "expected magnitude =  3.6343026529805504\n"
          ]
        }
      ]
    },
    {
      "cell_type": "markdown",
      "id": "13da0dc1",
      "metadata": {
        "id": "13da0dc1"
      },
      "source": [
        "#### Bonus part:\n",
        "\n",
        "Can this date be trusted? We wouldn't want to claim the endoplanet is the brightest on a particular day and then have it brighten up even more later. Try to ascertain the error in this predicted date. Read the documentation of `curve_fit` and try to understand the statistical significance of the quantities it returns."
      ]
    },
    {
      "cell_type": "code",
      "execution_count": 12,
      "id": "08d245f9",
      "metadata": {
        "id": "08d245f9",
        "colab": {
          "base_uri": "https://localhost:8080/"
        },
        "outputId": "0f122db0-12d2-4b28-d611-937769eef15a"
      },
      "outputs": [
        {
          "output_type": "stream",
          "name": "stdout",
          "text": [
            "Error = 4.5 days\n"
          ]
        }
      ],
      "source": [
        "# Solution code\n",
        "perr = np.sqrt(np.diag(cov)) #find the standard devation in the outputs of each optimised parameter\n",
        "l0 = [param[0] - perr[0], param[0], param[0] + perr[0]]\n",
        "l1 = [param[1] - perr[1], param[1], param[1] + perr[1]]\n",
        "l2 = [param[2] - perr[2], param[2], param[2] + perr[2]]\n",
        "#create a list of all acceptable values of the parameters within one standard deviation\n",
        "\n",
        "day_range = []\n",
        "\n",
        "#find the day of max brightness in each possible combination of parameters. use that to find a range of outcomes that scipy could have given\n",
        "for i in l0:\n",
        "  for j in l1:\n",
        "    for k in l2:\n",
        "      x = np.linspace(0, 50, num = 100)\n",
        "      y = gaussian(x,i, j, k)\n",
        "      days_to_max = int(x[np.argmin(y)])\n",
        "      day_range.append(days_to_max)\n",
        "\n",
        "day_min = np.min(day_range)\n",
        "day_max = np.max(day_range)\n",
        "error = (day_max-day_min)/2 #calculate error by (max-min)/2\n",
        "print('Error =', error, 'days')\n"
      ]
    },
    {
      "cell_type": "code",
      "source": [
        ""
      ],
      "metadata": {
        "id": "WykrAskN0NKn"
      },
      "id": "WykrAskN0NKn",
      "execution_count": null,
      "outputs": []
    }
  ],
  "metadata": {
    "kernelspec": {
      "display_name": "Python 3",
      "language": "python",
      "name": "python3"
    },
    "language_info": {
      "codemirror_mode": {
        "name": "ipython",
        "version": 3
      },
      "file_extension": ".py",
      "mimetype": "text/x-python",
      "name": "python",
      "nbconvert_exporter": "python",
      "pygments_lexer": "ipython3",
      "version": "3.8.8"
    },
    "colab": {
      "name": "Problem_Statement.ipynb",
      "provenance": [],
      "collapsed_sections": []
    }
  },
  "nbformat": 4,
  "nbformat_minor": 5
}